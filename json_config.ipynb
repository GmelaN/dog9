{
 "cells": [
  {
   "cell_type": "code",
   "execution_count": 7,
   "metadata": {},
   "outputs": [],
   "source": [
    "from app.config.json_config_loader import JSONConfig\n",
    "\n",
    "\n",
    "JSONConfig.load_config(config_type=\"urls\", file_path=\"./app/config/\")"
   ]
  },
  {
   "cell_type": "code",
   "execution_count": 9,
   "metadata": {},
   "outputs": [
    {
     "data": {
      "text/plain": [
       "{'bachelor': 'https://www.gnu.ac.kr/main/na/ntt/selectRssFeed.do?mi=1127&bbsId=1029',\n",
       " 'scholarships': 'https://www.gnu.ac.kr/main/na/ntt/selectRssFeed.do?mi=1376&bbsId=1075',\n",
       " 'academics_events': 'https://www.gnu.ac.kr/main/na/ntt/selectRssFeed.do?mi=1131&bbsId=1032',\n",
       " 'external': 'https://www.gnu.ac.kr/main/na/ntt/selectRssFeed.do?mi=1132&bbsId=1033',\n",
       " 'agencies': 'https://www.gnu.ac.kr/main/na/ntt/selectRssFeed.do?mi=1126&bbsId=1028',\n",
       " 'news': 'https://www.gnu.ac.kr/main/na/ntt/selectRssFeed.do?mi=1289&bbsId=1039',\n",
       " 'cs_notices': 'https://www.gnu.ac.kr/cse/na/ntt/selectRssFeed.do?mi=17093&bbsId=4753',\n",
       " 'cs_seminars': 'https://www.gnu.ac.kr/cse/na/ntt/selectRssFeed.do?mi=17078&bbsId=4845'}"
      ]
     },
     "execution_count": 9,
     "metadata": {},
     "output_type": "execute_result"
    }
   ],
   "source": [
    "JSONConfig.get_config(\"gnu\")"
   ]
  },
  {
   "cell_type": "code",
   "execution_count": 13,
   "metadata": {},
   "outputs": [
    {
     "name": "stdout",
     "output_type": "stream",
     "text": [
      "{'global': 'https://news.sbs.co.kr/news/SectionRssFeed.do?sectionId=08&plink=RSSREADER', 'social': 'https://news.sbs.co.kr/news/SectionRssFeed.do?sectionId=03&plink=RSSREADER', 'politics': 'https://news.sbs.co.kr/news/SectionRssFeed.do?sectionId=01&plink=RSSREADER', 'economics': 'https://news.sbs.co.kr/news/SectionRssFeed.do?sectionId=02&plink=RSSREADER'}\n",
      "{'latest': 'https://www.yonhapnewstv.co.kr/browse/feed/', 'headline': 'https://www.yonhapnewstv.co.kr/category/news/headline/feed/', 'politics': 'https://www.yonhapnewstv.co.kr/category/news/politics/feed/', 'economics': 'https://www.yonhapnewstv.co.kr/category/news/economy/feed/', 'social': 'https://www.yonhapnewstv.co.kr/category/news/society/feed/', 'local': 'https://www.yonhapnewstv.co.kr/category/news/local/feed/'}\n"
     ]
    }
   ],
   "source": [
    "for key in JSONConfig.get_config(\"news\").keys():\n",
    "    print(JSONConfig.get_config(\"news\")[key])"
   ]
  },
  {
   "cell_type": "code",
   "execution_count": 17,
   "metadata": {},
   "outputs": [
    {
     "name": "stdout",
     "output_type": "stream",
     "text": [
      "https://v2.velog.io/rss/\n",
      "https://v2.velog.io/rss/@oneoneone\n",
      "https://v2.velog.io/rss/@tosspayments\n",
      "https://v2.velog.io/rss/@broccolism\n"
     ]
    }
   ],
   "source": [
    "for key in JSONConfig.get_config(\"blog\")[\"velog\"]:\n",
    "    print(JSONConfig.get_config(\"blog\")[\"velog\"][key])"
   ]
  },
  {
   "cell_type": "code",
   "execution_count": null,
   "metadata": {},
   "outputs": [],
   "source": []
  }
 ],
 "metadata": {
  "kernelspec": {
   "display_name": "dog9",
   "language": "python",
   "name": "python3"
  },
  "language_info": {
   "codemirror_mode": {
    "name": "ipython",
    "version": 3
   },
   "file_extension": ".py",
   "mimetype": "text/x-python",
   "name": "python",
   "nbconvert_exporter": "python",
   "pygments_lexer": "ipython3",
   "version": "3.12.2"
  }
 },
 "nbformat": 4,
 "nbformat_minor": 2
}
