{
 "cells": [
  {
   "cell_type": "markdown",
   "metadata": {},
   "source": [
    "# Proof-of-Conecpt notepad"
   ]
  },
  {
   "cell_type": "markdown",
   "metadata": {},
   "source": [
    "## fetching RSS feed by feedparser"
   ]
  },
  {
   "cell_type": "code",
   "execution_count": null,
   "metadata": {},
   "outputs": [],
   "source": [
    "import feedparser\n",
    "\n",
    "# RSS feed URL\n",
    "feed_url = \"https://news.google.com/rss?hl=en-US&gl=US&ceid=US:en\"\n",
    "\n",
    "# Parse the RSS feed\n",
    "feed = feedparser.parse(feed_url)\n",
    "\n",
    "# Loop through each post\n",
    "for post in feed.entries:\n",
    "    print(f\"{post.title}\")\n"
   ]
  },
  {
   "cell_type": "code",
   "execution_count": 1,
   "metadata": {},
   "outputs": [
    {
     "name": "stdout",
     "output_type": "stream",
     "text": [
      "[구글 스칼라 PDF 리더]\n",
      "구글 스칼라 PDF 리더\n",
      "https://news.hada.io/user?id=neo\n",
      "[올드보이 개발자가 쓴 비전 프로 후기 시리즈]\n",
      " 공간 컴퓨팅은 모바일 컴퓨팅의 미래인가  2027년경에나 비전 프로가 보편화 될 것   아이폰 그 다음 새로운 희망  2007년 아이폰 출시 당시 앱 스토어 없었음, 웹 앱 중심의 환경 2008년 iOS SDK 출시로 모바일 컴퓨팅 분야가 확립 \"이동성과 연결성\"...\n",
      "https://news.hada.io/user?id=xguru\n",
      "[베네딕트 에반스의 애플 Vision Pro 한달 사용기]\n",
      " 비전 프로는 놀라운 제품이지만, VR 및 AR과 마찬가지로 대중 시장에 도달하기까지는 아직 수년이 걸릴 것으로 보임 애플이 대중 시장에 도달한다 해도, 그 영향력은 얼마나 클지 미지수임  메타의 오큘러스 인수 10년  메타는 10년 전에 오큘러스를 20억 달러에 인수함...\n",
      "https://news.hada.io/user?id=xguru\n",
      "[실시간 벡터 그래픽을 위한 'Rive Renderer'가 이제 오픈 소스로 전환]\n",
      "실시간 벡터 그래픽을 위한 'Rive Renderer'가 이제 오픈 소스로 전환\n",
      "https://news.hada.io/user?id=neo\n",
      "[Lcl.host: 로컬 개발 환경에서 빠르고 쉬운 HTTPS 구현]\n",
      " 웹 개발자들이 로컬에서 빠르게 HTTPS 환경을 구축하고 사용할 수 있는 무료 개발 도구 개발 환경에서도 프로덕션 환경과 동일한 보안 브라우저 컨텍스트를 제공받을 수 있음 혼합 콘텐츠 문제, CORS 오류, 보안 쿠키 오류 등을 미리 해결  lcl.host를 구축한 이유  ...\n",
      "https://news.hada.io/user?id=xguru\n",
      "[20년간의 Not Even Wrong]\n",
      " 이 블로그의 첫 게시물은 20년 전에 올라왔으며, 첫 실질적인 게시물은 20년 전 내일에 해당함 블로깅이 유행하던 시절에 시작되었으며, 다른 기본 물리학 블로그들도 비슷한 시기에 시작됨. 대부분의 블로그는 활동을 멈췄지만, Sabine Hossenfelder의 Backreaction은 예외임. 일부...\n",
      "https://news.hada.io/user?id=neo\n",
      "[tlm - CodeLLaMa로 구동되는 로컬 CLI 코파일럿]\n",
      " CLI에 대해서 자연어로 요청하면 명령을 생성해주는 코파일럿 도구 $ tlm suggest 'list all network interfaces but only their ip addresses' > ip addr show | grep -oP 'inet \\K[\\d.]+  API Key 나 인터넷 연결 필요없음 맥/리눅스/윈도우에서...\n",
      "https://news.hada.io/user?id=xguru\n",
      "[파리, 공공주택에 수십억 투입하여 혼합 사회 유지]\n",
      "파리는 어떻게 파리로 남아있는가? 공공주택에 수십억 유로 투자  파리의 4분의 1 주민들이 정부 소유의 주택에 살고 있으며, 이는 저소득층 파리 시민들과 그들의 사업체들이 도시에 남아있도록 하는 공격적인 계획의 일부임. 파리의 새로운 공공주택 개발 프로젝트인 Îlot Saint-Germain에서...\n",
      "https://news.hada.io/user?id=neo\n",
      "[CRISPR-Cas 유전자 편집을 이용해 세포 배양에서 완전히 제거된 HIV [pdf]]\n",
      "CRISPR-Cas 유전자 편집을 이용해 세포 배양에서 완전히 제거된 HIV [pdf]\n",
      "https://news.hada.io/user?id=neo\n",
      "[의심스러운 불연속성들 (2020)]\n",
      "의심스러운 불연속성  개인이 소득을 줄이려는 이유 중 하나는 미국의 건강보험 보조금이 소득에 따라 차등 지급되기 때문임. 소득이 일정 금액을 초과하면 보조금이 급격히 줄어들어, 실제로는 소득을 줄이는 것이 더 유리할 수 있음. 이러한 불연속성은 사람들이 소득을 줄이도록 ...\n",
      "https://news.hada.io/user?id=neo\n"
     ]
    },
    {
     "name": "stderr",
     "output_type": "stream",
     "text": [
      "/home/gmelan-pc/src/dogdogdogdogdogdogdogdogdog/app/services/rss_crawler.py:33: GuessedAtParserWarning: No parser was explicitly specified, so I'm using the best available HTML parser for this system (\"html.parser\"). This usually isn't a problem, but if you run this code on another system, or in a different virtual environment, it may use a different parser and behave differently.\n",
      "\n",
      "The code that caused this warning is on line 33 of the file /home/gmelan-pc/src/dogdogdogdogdogdogdogdogdog/app/services/rss_crawler.py. To get rid of this warning, pass the additional argument 'features=\"html.parser\"' to the BeautifulSoup constructor.\n",
      "\n",
      "  content=BeautifulSoup(entries[i][\"content\"][0][\"value\"], \"html\").text.replace('\\n', \" \"),\n"
     ]
    }
   ],
   "source": [
    "from app.services.rss_crawler import RssCrawler\n",
    "\n",
    "crawler = RssCrawler(base_url=\"https://feeds.feedburner.com/geeknews-feed\")\n",
    "result = crawler.fetch_documents()\n",
    "\n",
    "for element in result:\n",
    "    print(f'[{element.title}]')\n",
    "    print(element.content)\n",
    "    print(element.href)"
   ]
  },
  {
   "cell_type": "markdown",
   "metadata": {},
   "source": [
    "## test LLM"
   ]
  },
  {
   "cell_type": "markdown",
   "metadata": {},
   "source": [
    "### transformers - gemma"
   ]
  },
  {
   "cell_type": "code",
   "execution_count": null,
   "metadata": {},
   "outputs": [],
   "source": [
    "from transformers import AutoTokenizer, AutoModelForCausalLM\n",
    "\n",
    "tokenizer = AutoTokenizer.from_pretrained(\"google/gemma-2b-it\")\n",
    "model = AutoModelForCausalLM.from_pretrained(\"google/gemma-2b-it\")\n",
    "\n",
    "input_text = \"안녕하세요!\"\n",
    "input_ids = tokenizer(input_text, return_tensors=\"pt\")\n",
    "\n",
    "outputs = model.generate(**input_ids, max_new_tokens=2000)\n",
    "print(tokenizer.decode(outputs[0]))"
   ]
  },
  {
   "cell_type": "markdown",
   "metadata": {},
   "source": [
    "### transformers - llama2-ko"
   ]
  },
  {
   "cell_type": "code",
   "execution_count": null,
   "metadata": {},
   "outputs": [],
   "source": [
    "from transformers import AutoTokenizer, AutoModelForCausalLM\n",
    "\n",
    "tokenizer = AutoTokenizer.from_pretrained(\"beomi/open-llama-2-ko-7b\")\n",
    "model = AutoModelForCausalLM.from_pretrained(\"beomi/open-llama-2-ko-7b\")\n",
    "\n",
    "input_text = \"안녕하세요!\"\n",
    "input_ids = tokenizer(input_text, return_tensors=\"pt\")\n",
    "\n",
    "outputs = model.generate(**input_ids, max_new_tokens=2000)\n",
    "print(tokenizer.decode(outputs[0]))"
   ]
  },
  {
   "cell_type": "markdown",
   "metadata": {},
   "source": [
    "## test codellama"
   ]
  },
  {
   "cell_type": "code",
   "execution_count": 7,
   "metadata": {},
   "outputs": [
    {
     "name": "stdout",
     "output_type": "stream",
     "text": [
      "RSS feed fetched successfully.\n",
      "prompt transferred to model.\n",
      "\n",
      "```python\n",
      "from app.crawlers.website_crawler import WebsiteCrawler\n",
      "import feedparser\n",
      "import requests\n",
      "\n",
      "class NewsHadaWebsiteCrawler(WebsiteCrawler):\n",
      "    def fetch_documents(self) -> List[Dict]:\n",
      "        \"\"\"\n",
      "        fetch documents from rss\n",
      "        \n",
      "        :return: list of documents\n",
      "        \"\"\"\n",
      "        response = requests.get(self.base_url).text\n",
      "        feed = feedparser.parse(response)\n",
      "        entries = feed['entries']\n",
      "        result = []\n",
      "        for entry in entries:\n",
      "            title = entry.title\n",
      "            content = entry.content[0].value\n",
      "            category = ''  # 뉴스에는 카테고리가 존재하지 않음, 제거되어도 문제 없음\n",
      "            href = entry.link\n",
      "            result.append(DocumentDTO(title=title, content=content, category=category, href=href))\n",
      "        return result\n",
      "```\n",
      "\n"
     ]
    }
   ],
   "source": [
    "import ollama\n",
    "import requests\n",
    "\n",
    "response = requests.get(\"https://feeds.feedburner.com/geeknews-feed\")\n",
    "rss_feed: str = response.content.decode()\n",
    "\n",
    "print(\"RSS feed fetched successfully.\")\n",
    "\n",
    "prompt: str = f'''\n",
    "[PROBLEM]\n",
    "- implement WebsiteCrawler class with given RSS feed.\n",
    "- only use feedparser, DO NOT USE BEAUTIFULSOUP.\n",
    "\n",
    "[RSS feed]\n",
    "```\n",
    "{rss_feed}\n",
    "```\n",
    "\n",
    "[WebsiteCrawler class]\n",
    "```python\n",
    "import feedparser\n",
    "from app.schemas.document_dto import DocumentDTO\n",
    "\n",
    "\n",
    "from abc import ABC, abstractmethod\n",
    "from typing import List, Dict\n",
    "\n",
    "class WebsiteCrawler(ABC):\n",
    "    def __init__(self, base_url: str):\n",
    "        self.base_url = base_url\n",
    "\n",
    "    @abstractmethod\n",
    "    def fetch_documents(self) -> List[DocumentDTO]:\n",
    "        \"\"\"\n",
    "        fetch documents from website\n",
    "        \n",
    "        :return: list of documents\n",
    "        \"\"\"\n",
    "        pass\n",
    "\n",
    "\n",
    "```\n",
    "\n",
    "[DocumentDTO class]\n",
    "```python\n",
    "from dataclasses import dataclass\n",
    "\n",
    "@dataclass\n",
    "class DocumentDTO:\n",
    "    title: str\n",
    "    content: str\n",
    "    type: str\n",
    "    category: str\n",
    "    href: str\n",
    "\n",
    "```\n",
    "'''\n",
    "\n",
    "\n",
    "prompt = '''\n",
    "this is an example of RssCrawler.\n",
    "```python\n",
    "from app.services.base_crawler import WebsiteCrawler\n",
    "from app.schemas.document_dto import DocumentDTO\n",
    "\n",
    "from typing import List, Dict\n",
    "\n",
    "import feedparser\n",
    "\n",
    "from bs4 import BeautifulSoup\n",
    "\n",
    "\n",
    "class RssCrawler(WebsiteCrawler):\n",
    "    def __init__(self, base_url: str):\n",
    "        self.base_url = base_url\n",
    "\n",
    "\n",
    "    def fetch_documents(self) -> List[DocumentDTO]:\n",
    "        \"\"\"\n",
    "        fetch documents from website\n",
    "        \n",
    "        :return: a list of documents\n",
    "        \"\"\"\n",
    "\n",
    "        feed_dict: feedparser.FeedParserDict = feedparser.parse(self.base_url)\n",
    "        element_type: str = feed_dict[\"feed\"][\"title\"]\n",
    "        entries: feedparser.FeedParserDict = feed_dict[\"entries\"]\n",
    "\n",
    "        result: List[DocumentDTO] = list()\n",
    "\n",
    "        for i in range(len(entries)):\n",
    "            result.append(\n",
    "                DocumentDTO(\n",
    "                    title=entries[i][\"title\"],\n",
    "                    content=BeautifulSoup(entries[i][\"content\"][0][\"value\"], \"html\").text.replace('\\n', \" \"),\n",
    "                    type=element_type,\n",
    "                    category=\"news\",\n",
    "                    href=entries[i][\"href\"]\n",
    "                )\n",
    "            )\n",
    "\n",
    "        return result\n",
    "\n",
    "```\n",
    "\n",
    "```\n",
    "<?xml version='1.0' encoding='UTF-8'?>\\n<feed xmlns='http://www.w3.org/2005/Atom'>\\n<title>GeekNews - 개발/기술/스타트업 뉴스 서비스</title>\\n<subtitle>개발 뉴스, 기술 관련 새소식, 스타트업 정보와 노하우, 세상의 재미난 것들을 좋아하는 사람들을 위한 뉴스 사이트. 이메일 뉴스레터/트위터/슬랙 봇으로 구독 가능</subtitle>\\n<link ref='alternate' type='text/html' href='https://news.hada.io' />\\n<link ref='self' type='application/atom+xml' href='https://news.hada.io/rss/news' />\\n<id>https://news.hada.io/rss/news</id>\\n<author>\\n<name>GeekNews</name>\\n<email>news@hada.io</email>\\n<uri>https://news.hada.io</uri>\\n</author>\\n<updated>2024-03-21T16:32:30+09:00</updated>\\n<icon>https://social.news.hada.io/favicon.png</icon>\\n<logo>https://social.news.hada.io/WideLogo500.png</logo>\\n<category term='technology'/>\\n<entry>\\n  <title>구글 스칼라 PDF 리더</title>\\n  <link rel='alternate' type='text/html' href='https://news.hada.io/topic?id=13925' />\\n  <id>https://news.hada.io/topic?id=13925</id>\\n  <updated>2024-03-21T16:32:30+09:00</updated>\\n  <published>2024-03-21T16:32:30+09:00</published>\\n  <author>\\n    <name>neo</name>\\n    <uri>https://news.hada.io/user?id=neo</uri>\\n  </author>\\n  <content type='html' xml:lang='ko'><![CDATA[구글 스칼라 PDF 리더]]></content>\\n</entry><entry>\\n  <title>올드보이 개발자가 쓴 비전 프로 후기 시리즈</title>\\n  <link rel='alternate' type='text/html' href='https://news.hada.io/topic?id=13924' />\\n  <id>https://news.hada.io/topic?id=13924</id>\\n  <updated>2024-03-21T11:05:47+09:00</updated>\\n  <published>2024-03-21T11:05:47+09:00</published>\\n  <author>\\n    <name>xguru</name>\\n    <uri>https://news.hada.io/user?id=xguru</uri>\\n  </author>\\n  <content type='html' xml:lang='ko'><![CDATA[<ul>\\n<li>공간 컴퓨팅은 모바일 컴퓨팅의 미래인가\\n<ul>\\n<li>2027년경에나 비전 프로가 보편화 될 것</li>\\n</ul>\\n</li>\\n<li>아이폰 그 다음 새로운 희망\\n<ul>\\n<li>2007년 아이폰 출시 당시 앱 스토어 없었음, 웹 앱 중심의 환경</li>\\n<li>2008년 iOS SDK 출시로 모바일 컴퓨팅 분야가 확립 &quot;이동성과 연결성&quot;...</p>]]></content>\\n</entry><entry>\\n  <title>베네딕트 에반스의 애플 Vision Pro 한달 사용기</title>\\n  <link rel='alternate' type='text/html' href='https://news.hada.io/topic?id=13923' />\\n  <id>https://news.hada.io/topic?id=13923</id>\\n  <updated>2024-03-21T10:44:24+09:00</updated>\\n  <published>2024-03-21T10:44:24+09:00</published>\\n  <author>\\n    <name>xguru</name>\\n    <uri>https://news.hada.io/user?id=xguru</uri>\\n  </author>\\n  <content type='html' xml:lang='ko'><![CDATA[<ul>\\n<li>비전 프로는 놀라운 제품이지만, VR 및 AR과 마찬가지로 대중 시장에 도달하기까지는 아직 수년이 걸릴 것으로 보임</li>\\n<li>애플이 대중 시장에 도달한다 해도, 그 영향력은 얼마나 클지 미지수임</li>\\n</ul>\\n<h2>메타의 오큘러스 인수 10년</h2>\\n<ul>\\n<li>메타는 10년 전에 오큘러스를 20억 달러에 인수함...</p>]]></content>\\n</entry><entry>\\n  <title>실시간 벡터 그래픽을 위한 'Rive Renderer'가 이제 오픈 소스로 전환</title>\\n  <link rel='alternate' type='text/html' href='https://news.hada.io/topic?id=13922' />\\n  <id>https://news.hada.io/topic?id=13922</id>\\n  <updated>2024-03-21T10:33:22+09:00</updated>\\n  <published>2024-03-21T10:33:22+09:00</published>\\n  <author>\\n    <name>neo</name>\\n    <uri>https://news.hada.io/user?id=neo</uri>\\n  </author>\\n  <content type='html' xml:lang='ko'><![CDATA[실시간 벡터 그래픽을 위한 'Rive Renderer'가 이제 오픈 소스로 전환]]></content>\\n</entry><entry>\\n  <title>Lcl.host: 로컬 개발 환경에서 빠르고 쉬운 HTTPS 구현</title>\\n  <link rel='alternate' type='text/html' href='https://news.hada.io/topic?id=13921' />\\n  <id>https://news.hada.io/topic?id=13921</id>\\n  <updated>2024-03-21T10:17:01+09:00</updated>\\n  <published>2024-03-21T10:17:01+09:00</published>\\n  <author>\\n    <name>xguru</name>\\n    <uri>https://news.hada.io/user?id=xguru</uri>\\n  </author>\\n  <content type='html' xml:lang='ko'><![CDATA[<ul>\\n<li>웹 개발자들이 로컬에서 빠르게 HTTPS 환경을 구축하고 사용할 수 있는 무료 개발 도구</li>\\n<li>개발 환경에서도 프로덕션 환경과 동일한 보안 브라우저 컨텍스트를 제공받을 수 있음</li>\\n<li>혼합 콘텐츠 문제, CORS 오류, 보안 쿠키 오류 등을 미리 해결</li>\\n</ul>\\n<h2>lcl.host를 구축한 이유</h2>\\n<ul>\\n...</p>]]></content>\\n</entry><entry>\\n  <title>20년간의 Not Even Wrong</title>\\n  <link rel='alternate' type='text/html' href='https://news.hada.io/topic?id=13920' />\\n  <id>https://news.hada.io/topic?id=13920</id>\\n  <updated>2024-03-21T10:05:49+09:00</updated>\\n  <published>2024-03-21T10:05:49+09:00</published>\\n  <author>\\n    <name>neo</name>\\n    <uri>https://news.hada.io/user?id=neo</uri>\\n  </author>\\n  <content type='html' xml:lang='ko'><![CDATA[<ul>\\n<li>이 블로그의 첫 게시물은 20년 전에 올라왔으며, 첫 실질적인 게시물은 20년 전 내일에 해당함</li>\\n<li>블로깅이 유행하던 시절에 시작되었으며, 다른 기본 물리학 블로그들도 비슷한 시기에 시작됨.</li>\\n<li>대부분의 블로그는 활동을 멈췄지만, Sabine Hossenfelder의 Backreaction은 예외임.</li>\\n<li>일부...</p>]]></content>\\n</entry><entry>\\n  <title>tlm - CodeLLaMa로 구동되는 로컬 CLI 코파일럿</title>\\n  <link rel='alternate' type='text/html' href='https://news.hada.io/topic?id=13919' />\\n  <id>https://news.hada.io/topic?id=13919</id>\\n  <updated>2024-03-21T10:03:01+09:00</updated>\\n  <published>2024-03-21T10:03:01+09:00</published>\\n  <author>\\n    <name>xguru</name>\\n    <uri>https://news.hada.io/user?id=xguru</uri>\\n  </author>\\n  <content type='html' xml:lang='ko'><![CDATA[<ul>\\n<li>CLI에 대해서 자연어로 요청하면 명령을 생성해주는 코파일럿 도구<br />\\n<code>$ tlm suggest 'list all network interfaces but only their ip addresses'</code><br />\\n<code>&gt; ip addr show | grep -oP 'inet \\\\K[\\\\d.]+</code>\\n</li>\\n<li>API Key 나 인터넷 연결 필요없음</li>\\n<li>맥/리눅스/윈도우에서...</p>]]></content>\\n</entry><entry>\\n  <title>파리, 공공주택에 수십억 투입하여 혼합 사회 유지</title>\\n  <link rel='alternate' type='text/html' href='https://news.hada.io/topic?id=13918' />\\n  <id>https://news.hada.io/topic?id=13918</id>\\n  <updated>2024-03-21T10:02:49+09:00</updated>\\n  <published>2024-03-21T10:02:49+09:00</published>\\n  <author>\\n    <name>neo</name>\\n    <uri>https://news.hada.io/user?id=neo</uri>\\n  </author>\\n  <content type='html' xml:lang='ko'><![CDATA[<h2>파리는 어떻게 파리로 남아있는가? 공공주택에 수십억 유로 투자</h2>\\n<ul>\\n<li>파리의 4분의 1 주민들이 정부 소유의 주택에 살고 있으며, 이는 저소득층 파리 시민들과 그들의 사업체들이 도시에 남아있도록 하는 공격적인 계획의 일부임.</li>\\n<li>파리의 새로운 공공주택 개발 프로젝트인 Îlot Saint-Germain에서...</p>]]></content>\\n</entry><entry>\\n  <title>CRISPR-Cas 유전자 편집을 이용해 세포 배양에서 완전히 제거된 HIV [pdf]</title>\\n  <link rel='alternate' type='text/html' href='https://news.hada.io/topic?id=13917' />\\n  <id>https://news.hada.io/topic?id=13917</id>\\n  <updated>2024-03-21T09:59:49+09:00</updated>\\n  <published>2024-03-21T09:59:49+09:00</published>\\n  <author>\\n    <name>neo</name>\\n    <uri>https://news.hada.io/user?id=neo</uri>\\n  </author>\\n  <content type='html' xml:lang='ko'><![CDATA[CRISPR-Cas 유전자 편집을 이용해 세포 배양에서 완전히 제거된 HIV [pdf]]]></content>\\n</entry><entry>\\n  <title>의심스러운 불연속성들 (2020)</title>\\n  <link rel='alternate' type='text/html' href='https://news.hada.io/topic?id=13916' />\\n  <id>https://news.hada.io/topic?id=13916</id>\\n  <updated>2024-03-21T09:56:49+09:00</updated>\\n  <published>2024-03-21T09:56:49+09:00</published>\\n  <author>\\n    <name>neo</name>\\n    <uri>https://news.hada.io/user?id=neo</uri>\\n  </author>\\n  <content type='html' xml:lang='ko'><![CDATA[<h2>의심스러운 불연속성</h2>\\n<ul>\\n<li>개인이 소득을 줄이려는 이유 중 하나는 미국의 건강보험 보조금이 소득에 따라 차등 지급되기 때문임.</li>\\n<li>소득이 일정 금액을 초과하면 보조금이 급격히 줄어들어, 실제로는 소득을 줄이는 것이 더 유리할 수 있음.</li>\\n<li>이러한 불연속성은 사람들이 소득을 줄이도록 ...</p>]]></content>\\n</entry></feed>```\n",
    "\n",
    "```python\n",
    "from app.schemas.document_dto import DocumentDTO\n",
    "\n",
    "\n",
    "from abc import ABC, abstractmethod\n",
    "from typing import List, Dict\n",
    "\n",
    "class WebsiteCrawler(ABC):\n",
    "    def __init__(self, base_url: str):\n",
    "        self.base_url = base_url\n",
    "\n",
    "    @abstractmethod\n",
    "    def fetch_documents(self) -> List[Dict]:\n",
    "        \"\"\"\n",
    "        fetch documents from website\n",
    "        \n",
    "        :return: list of documents\n",
    "        \"\"\"\n",
    "        pass\n",
    "\n",
    "\n",
    "```\n",
    "\n",
    "```python\n",
    "from dataclasses import dataclass\n",
    "\n",
    "@dataclass\n",
    "class DocumentDTO:\n",
    "    title: str\n",
    "    content: str\n",
    "    type: str\n",
    "    category: str\n",
    "    href: str\n",
    "\n",
    "```\n",
    "\n",
    "implement WebsiteCrawler for this RSS feed, use feedparser.\n",
    "'''\n",
    "\n",
    "response = ollama.generate(\n",
    "    model=\"codellama:13b-python\",\n",
    "    prompt=prompt,\n",
    "    stream=True\n",
    ")\n",
    "\n",
    "print(\"prompt transferred to model.\")\n",
    "\n",
    "for chunk in response:\n",
    "    print(chunk[\"response\"], end=\"\", flush=True)\n"
   ]
  },
  {
   "cell_type": "code",
   "execution_count": 2,
   "metadata": {},
   "outputs": [
    {
     "name": "stdout",
     "output_type": "stream",
     "text": [
      "RSS feed fetched successfully.\n"
     ]
    },
    {
     "data": {
      "text/plain": [
       "\"<?xml version='1.0' encoding='UTF-8'?>\\n<feed xmlns='http://www.w3.org/2005/Atom'>\\n<title>GeekNews - 개발/기술/스타트업 뉴스 서비스</title>\\n<subtitle>개발 뉴스, 기술 관련 새소식, 스타트업 정보와 노하우, 세상의 재미난 것들을 좋아하는 사람들을 위한 뉴스 사이트. 이메일 뉴스레터/트위터/슬랙 봇으로 구독 가능</subtitle>\\n<link ref='alternate' type='text/html' href='https://news.hada.io' />\\n<link ref='self' type='application/atom+xml' href='https://news.hada.io/rss/news' />\\n<id>https://news.hada.io/rss/news</id>\\n<author>\\n<name>GeekNews</name>\\n<email>news@hada.io</email>\\n<uri>https://news.hada.io</uri>\\n</author>\\n<updated>2024-03-21T16:32:30+09:00</updated>\\n<icon>https://social.news.hada.io/favicon.png</icon>\\n<logo>https://social.news.hada.io/WideLogo500.png</logo>\\n<category term='technology'/>\\n<entry>\\n  <title>구글 스칼라 PDF 리더</title>\\n  <link rel='alternate' type='text/html' href='https://news.hada.io/topic?id=13925' />\\n  <id>https://news.hada.io/topic?id=13925</id>\\n  <updated>2024-03-21T16:32:30+09:00</updated>\\n  <published>2024-03-21T16:32:30+09:00</published>\\n  <author>\\n    <name>neo</name>\\n    <uri>https://news.hada.io/user?id=neo</uri>\\n  </author>\\n  <content type='html' xml:lang='ko'><![CDATA[구글 스칼라 PDF 리더]]></content>\\n</entry><entry>\\n  <title>올드보이 개발자가 쓴 비전 프로 후기 시리즈</title>\\n  <link rel='alternate' type='text/html' href='https://news.hada.io/topic?id=13924' />\\n  <id>https://news.hada.io/topic?id=13924</id>\\n  <updated>2024-03-21T11:05:47+09:00</updated>\\n  <published>2024-03-21T11:05:47+09:00</published>\\n  <author>\\n    <name>xguru</name>\\n    <uri>https://news.hada.io/user?id=xguru</uri>\\n  </author>\\n  <content type='html' xml:lang='ko'><![CDATA[<ul>\\n<li>공간 컴퓨팅은 모바일 컴퓨팅의 미래인가\\n<ul>\\n<li>2027년경에나 비전 프로가 보편화 될 것</li>\\n</ul>\\n</li>\\n<li>아이폰 그 다음 새로운 희망\\n<ul>\\n<li>2007년 아이폰 출시 당시 앱 스토어 없었음, 웹 앱 중심의 환경</li>\\n<li>2008년 iOS SDK 출시로 모바일 컴퓨팅 분야가 확립 &quot;이동성과 연결성&quot;...</p>]]></content>\\n</entry><entry>\\n  <title>베네딕트 에반스의 애플 Vision Pro 한달 사용기</title>\\n  <link rel='alternate' type='text/html' href='https://news.hada.io/topic?id=13923' />\\n  <id>https://news.hada.io/topic?id=13923</id>\\n  <updated>2024-03-21T10:44:24+09:00</updated>\\n  <published>2024-03-21T10:44:24+09:00</published>\\n  <author>\\n    <name>xguru</name>\\n    <uri>https://news.hada.io/user?id=xguru</uri>\\n  </author>\\n  <content type='html' xml:lang='ko'><![CDATA[<ul>\\n<li>비전 프로는 놀라운 제품이지만, VR 및 AR과 마찬가지로 대중 시장에 도달하기까지는 아직 수년이 걸릴 것으로 보임</li>\\n<li>애플이 대중 시장에 도달한다 해도, 그 영향력은 얼마나 클지 미지수임</li>\\n</ul>\\n<h2>메타의 오큘러스 인수 10년</h2>\\n<ul>\\n<li>메타는 10년 전에 오큘러스를 20억 달러에 인수함...</p>]]></content>\\n</entry><entry>\\n  <title>실시간 벡터 그래픽을 위한 'Rive Renderer'가 이제 오픈 소스로 전환</title>\\n  <link rel='alternate' type='text/html' href='https://news.hada.io/topic?id=13922' />\\n  <id>https://news.hada.io/topic?id=13922</id>\\n  <updated>2024-03-21T10:33:22+09:00</updated>\\n  <published>2024-03-21T10:33:22+09:00</published>\\n  <author>\\n    <name>neo</name>\\n    <uri>https://news.hada.io/user?id=neo</uri>\\n  </author>\\n  <content type='html' xml:lang='ko'><![CDATA[실시간 벡터 그래픽을 위한 'Rive Renderer'가 이제 오픈 소스로 전환]]></content>\\n</entry><entry>\\n  <title>Lcl.host: 로컬 개발 환경에서 빠르고 쉬운 HTTPS 구현</title>\\n  <link rel='alternate' type='text/html' href='https://news.hada.io/topic?id=13921' />\\n  <id>https://news.hada.io/topic?id=13921</id>\\n  <updated>2024-03-21T10:17:01+09:00</updated>\\n  <published>2024-03-21T10:17:01+09:00</published>\\n  <author>\\n    <name>xguru</name>\\n    <uri>https://news.hada.io/user?id=xguru</uri>\\n  </author>\\n  <content type='html' xml:lang='ko'><![CDATA[<ul>\\n<li>웹 개발자들이 로컬에서 빠르게 HTTPS 환경을 구축하고 사용할 수 있는 무료 개발 도구</li>\\n<li>개발 환경에서도 프로덕션 환경과 동일한 보안 브라우저 컨텍스트를 제공받을 수 있음</li>\\n<li>혼합 콘텐츠 문제, CORS 오류, 보안 쿠키 오류 등을 미리 해결</li>\\n</ul>\\n<h2>lcl.host를 구축한 이유</h2>\\n<ul>\\n...</p>]]></content>\\n</entry><entry>\\n  <title>20년간의 Not Even Wrong</title>\\n  <link rel='alternate' type='text/html' href='https://news.hada.io/topic?id=13920' />\\n  <id>https://news.hada.io/topic?id=13920</id>\\n  <updated>2024-03-21T10:05:49+09:00</updated>\\n  <published>2024-03-21T10:05:49+09:00</published>\\n  <author>\\n    <name>neo</name>\\n    <uri>https://news.hada.io/user?id=neo</uri>\\n  </author>\\n  <content type='html' xml:lang='ko'><![CDATA[<ul>\\n<li>이 블로그의 첫 게시물은 20년 전에 올라왔으며, 첫 실질적인 게시물은 20년 전 내일에 해당함</li>\\n<li>블로깅이 유행하던 시절에 시작되었으며, 다른 기본 물리학 블로그들도 비슷한 시기에 시작됨.</li>\\n<li>대부분의 블로그는 활동을 멈췄지만, Sabine Hossenfelder의 Backreaction은 예외임.</li>\\n<li>일부...</p>]]></content>\\n</entry><entry>\\n  <title>tlm - CodeLLaMa로 구동되는 로컬 CLI 코파일럿</title>\\n  <link rel='alternate' type='text/html' href='https://news.hada.io/topic?id=13919' />\\n  <id>https://news.hada.io/topic?id=13919</id>\\n  <updated>2024-03-21T10:03:01+09:00</updated>\\n  <published>2024-03-21T10:03:01+09:00</published>\\n  <author>\\n    <name>xguru</name>\\n    <uri>https://news.hada.io/user?id=xguru</uri>\\n  </author>\\n  <content type='html' xml:lang='ko'><![CDATA[<ul>\\n<li>CLI에 대해서 자연어로 요청하면 명령을 생성해주는 코파일럿 도구<br />\\n<code>$ tlm suggest 'list all network interfaces but only their ip addresses'</code><br />\\n<code>&gt; ip addr show | grep -oP 'inet \\\\K[\\\\d.]+</code>\\n</li>\\n<li>API Key 나 인터넷 연결 필요없음</li>\\n<li>맥/리눅스/윈도우에서...</p>]]></content>\\n</entry><entry>\\n  <title>파리, 공공주택에 수십억 투입하여 혼합 사회 유지</title>\\n  <link rel='alternate' type='text/html' href='https://news.hada.io/topic?id=13918' />\\n  <id>https://news.hada.io/topic?id=13918</id>\\n  <updated>2024-03-21T10:02:49+09:00</updated>\\n  <published>2024-03-21T10:02:49+09:00</published>\\n  <author>\\n    <name>neo</name>\\n    <uri>https://news.hada.io/user?id=neo</uri>\\n  </author>\\n  <content type='html' xml:lang='ko'><![CDATA[<h2>파리는 어떻게 파리로 남아있는가? 공공주택에 수십억 유로 투자</h2>\\n<ul>\\n<li>파리의 4분의 1 주민들이 정부 소유의 주택에 살고 있으며, 이는 저소득층 파리 시민들과 그들의 사업체들이 도시에 남아있도록 하는 공격적인 계획의 일부임.</li>\\n<li>파리의 새로운 공공주택 개발 프로젝트인 Îlot Saint-Germain에서...</p>]]></content>\\n</entry><entry>\\n  <title>CRISPR-Cas 유전자 편집을 이용해 세포 배양에서 완전히 제거된 HIV [pdf]</title>\\n  <link rel='alternate' type='text/html' href='https://news.hada.io/topic?id=13917' />\\n  <id>https://news.hada.io/topic?id=13917</id>\\n  <updated>2024-03-21T09:59:49+09:00</updated>\\n  <published>2024-03-21T09:59:49+09:00</published>\\n  <author>\\n    <name>neo</name>\\n    <uri>https://news.hada.io/user?id=neo</uri>\\n  </author>\\n  <content type='html' xml:lang='ko'><![CDATA[CRISPR-Cas 유전자 편집을 이용해 세포 배양에서 완전히 제거된 HIV [pdf]]]></content>\\n</entry><entry>\\n  <title>의심스러운 불연속성들 (2020)</title>\\n  <link rel='alternate' type='text/html' href='https://news.hada.io/topic?id=13916' />\\n  <id>https://news.hada.io/topic?id=13916</id>\\n  <updated>2024-03-21T09:56:49+09:00</updated>\\n  <published>2024-03-21T09:56:49+09:00</published>\\n  <author>\\n    <name>neo</name>\\n    <uri>https://news.hada.io/user?id=neo</uri>\\n  </author>\\n  <content type='html' xml:lang='ko'><![CDATA[<h2>의심스러운 불연속성</h2>\\n<ul>\\n<li>개인이 소득을 줄이려는 이유 중 하나는 미국의 건강보험 보조금이 소득에 따라 차등 지급되기 때문임.</li>\\n<li>소득이 일정 금액을 초과하면 보조금이 급격히 줄어들어, 실제로는 소득을 줄이는 것이 더 유리할 수 있음.</li>\\n<li>이러한 불연속성은 사람들이 소득을 줄이도록 ...</p>]]></content>\\n</entry></feed>\""
      ]
     },
     "execution_count": 2,
     "metadata": {},
     "output_type": "execute_result"
    }
   ],
   "source": [
    "import requests\n",
    "\n",
    "response = requests.get(\"https://feeds.feedburner.com/geeknews-feed\")\n",
    "rss_feed: str = response.content.decode()\n",
    "\n",
    "print(\"RSS feed fetched successfully.\")\n",
    "\n",
    "rss_feed"
   ]
  },
  {
   "cell_type": "code",
   "execution_count": 4,
   "metadata": {},
   "outputs": [],
   "source": [
    "from app.schemas.document_dto import DocumentDTO\n",
    "from app.schemas.website_dto import WebsiteDTO\n",
    "\n",
    "from abc import ABC, abstractmethod\n",
    "from typing import List, Dict\n",
    "\n",
    "class WebsiteCrawler(ABC):\n",
    "    def __init__(self, base_url: str):\n",
    "        self.base_url = base_url\n",
    "\n",
    "    @abstractmethod\n",
    "    def fetch_documents(self) -> List[DocumentDTO]:\n",
    "        \"\"\"\n",
    "        fetch documents from website\n",
    "        \n",
    "        :return: 문서의 리스트\n",
    "        \"\"\"\n",
    "        pass\n",
    "\n",
    "\n"
   ]
  },
  {
   "cell_type": "code",
   "execution_count": 8,
   "metadata": {},
   "outputs": [],
   "source": [
    "import feedparser\n",
    "import requests\n",
    "\n",
    "class NewsHadaWebsiteCrawler(WebsiteCrawler):\n",
    "    def fetch_documents(self) -> List[Dict]:\n",
    "        \"\"\"\n",
    "        fetch documents from rss\n",
    "        \n",
    "        :return: list of documents\n",
    "        \"\"\"\n",
    "        response = requests.get(self.base_url).text\n",
    "        feed = feedparser.parse(response)\n",
    "        entries = feed['entries']\n",
    "        result = []\n",
    "        for entry in entries:\n",
    "            title = entry.title\n",
    "            content = entry.content[0].value\n",
    "            category = ''  # 뉴스에는 카테고리가 존재하지 않음, 제거되어도 문제 없음\n",
    "            href = entry.link\n",
    "            result.append(DocumentDTO(title=title, content=content, type=\"\", category=category, href=href))\n",
    "        return result"
   ]
  },
  {
   "cell_type": "code",
   "execution_count": 9,
   "metadata": {},
   "outputs": [
    {
     "data": {
      "text/plain": [
       "[DocumentDTO(title='구글 스칼라 PDF 리더', content='구글 스칼라 PDF 리더', type='', category='', href='https://news.hada.io/topic?id=13925'),\n",
       " DocumentDTO(title='올드보이 개발자가 쓴 비전 프로 후기 시리즈', content='<ul>\\n<li>공간 컴퓨팅은 모바일 컴퓨팅의 미래인가\\n<ul>\\n<li>2027년경에나 비전 프로가 보편화 될 것</li>\\n</ul>\\n</li>\\n<li>아이폰 그 다음 새로운 희망\\n<ul>\\n<li>2007년 아이폰 출시 당시 앱 스토어 없었음, 웹 앱 중심의 환경</li>\\n<li>2008년 iOS SDK 출시로 모바일 컴퓨팅 분야가 확립 &quot;이동성과 연결성&quot;...</p>', type='', category='', href='https://news.hada.io/topic?id=13924'),\n",
       " DocumentDTO(title='베네딕트 에반스의 애플 Vision Pro 한달 사용기', content='<ul>\\n<li>비전 프로는 놀라운 제품이지만, VR 및 AR과 마찬가지로 대중 시장에 도달하기까지는 아직 수년이 걸릴 것으로 보임</li>\\n<li>애플이 대중 시장에 도달한다 해도, 그 영향력은 얼마나 클지 미지수임</li>\\n</ul>\\n<h2>메타의 오큘러스 인수 10년</h2>\\n<ul>\\n<li>메타는 10년 전에 오큘러스를 20억 달러에 인수함...</p>', type='', category='', href='https://news.hada.io/topic?id=13923'),\n",
       " DocumentDTO(title=\"실시간 벡터 그래픽을 위한 'Rive Renderer'가 이제 오픈 소스로 전환\", content=\"실시간 벡터 그래픽을 위한 'Rive Renderer'가 이제 오픈 소스로 전환\", type='', category='', href='https://news.hada.io/topic?id=13922'),\n",
       " DocumentDTO(title='Lcl.host: 로컬 개발 환경에서 빠르고 쉬운 HTTPS 구현', content='<ul>\\n<li>웹 개발자들이 로컬에서 빠르게 HTTPS 환경을 구축하고 사용할 수 있는 무료 개발 도구</li>\\n<li>개발 환경에서도 프로덕션 환경과 동일한 보안 브라우저 컨텍스트를 제공받을 수 있음</li>\\n<li>혼합 콘텐츠 문제, CORS 오류, 보안 쿠키 오류 등을 미리 해결</li>\\n</ul>\\n<h2>lcl.host를 구축한 이유</h2>\\n<ul>\\n...</p>', type='', category='', href='https://news.hada.io/topic?id=13921'),\n",
       " DocumentDTO(title='20년간의 Not Even Wrong', content='<ul>\\n<li>이 블로그의 첫 게시물은 20년 전에 올라왔으며, 첫 실질적인 게시물은 20년 전 내일에 해당함</li>\\n<li>블로깅이 유행하던 시절에 시작되었으며, 다른 기본 물리학 블로그들도 비슷한 시기에 시작됨.</li>\\n<li>대부분의 블로그는 활동을 멈췄지만, Sabine Hossenfelder의 Backreaction은 예외임.</li>\\n<li>일부...</p>', type='', category='', href='https://news.hada.io/topic?id=13920'),\n",
       " DocumentDTO(title='tlm - CodeLLaMa로 구동되는 로컬 CLI 코파일럿', content=\"<ul>\\n<li>CLI에 대해서 자연어로 요청하면 명령을 생성해주는 코파일럿 도구<br />\\n<code>$ tlm suggest 'list all network interfaces but only their ip addresses'</code><br />\\n<code>&gt; ip addr show | grep -oP 'inet \\\\K[\\\\d.]+</code>\\n</li>\\n<li>API Key 나 인터넷 연결 필요없음</li>\\n<li>맥/리눅스/윈도우에서...</p>\", type='', category='', href='https://news.hada.io/topic?id=13919'),\n",
       " DocumentDTO(title='파리, 공공주택에 수십억 투입하여 혼합 사회 유지', content='<h2>파리는 어떻게 파리로 남아있는가? 공공주택에 수십억 유로 투자</h2>\\n<ul>\\n<li>파리의 4분의 1 주민들이 정부 소유의 주택에 살고 있으며, 이는 저소득층 파리 시민들과 그들의 사업체들이 도시에 남아있도록 하는 공격적인 계획의 일부임.</li>\\n<li>파리의 새로운 공공주택 개발 프로젝트인 Îlot Saint-Germain에서...</p>', type='', category='', href='https://news.hada.io/topic?id=13918'),\n",
       " DocumentDTO(title='CRISPR-Cas 유전자 편집을 이용해 세포 배양에서 완전히 제거된 HIV [pdf]', content='CRISPR-Cas 유전자 편집을 이용해 세포 배양에서 완전히 제거된 HIV [pdf]', type='', category='', href='https://news.hada.io/topic?id=13917'),\n",
       " DocumentDTO(title='의심스러운 불연속성들 (2020)', content='<h2>의심스러운 불연속성</h2>\\n<ul>\\n<li>개인이 소득을 줄이려는 이유 중 하나는 미국의 건강보험 보조금이 소득에 따라 차등 지급되기 때문임.</li>\\n<li>소득이 일정 금액을 초과하면 보조금이 급격히 줄어들어, 실제로는 소득을 줄이는 것이 더 유리할 수 있음.</li>\\n<li>이러한 불연속성은 사람들이 소득을 줄이도록 ...</p>', type='', category='', href='https://news.hada.io/topic?id=13916')]"
      ]
     },
     "execution_count": 9,
     "metadata": {},
     "output_type": "execute_result"
    }
   ],
   "source": [
    "# a = RssCrawler(\"https://feeds.feedburner.com/geeknews-feed\")\n",
    "a = NewsHadaWebsiteCrawler(\"https://feeds.feedburner.com/geeknews-feed\")\n",
    "w = a.fetch_documents()\n",
    "w"
   ]
  }
 ],
 "metadata": {
  "kernelspec": {
   "display_name": "dog9",
   "language": "python",
   "name": "python3"
  },
  "language_info": {
   "codemirror_mode": {
    "name": "ipython",
    "version": 3
   },
   "file_extension": ".py",
   "mimetype": "text/x-python",
   "name": "python",
   "nbconvert_exporter": "python",
   "pygments_lexer": "ipython3",
   "version": "3.12.2"
  }
 },
 "nbformat": 4,
 "nbformat_minor": 2
}
