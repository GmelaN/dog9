{
 "cells": [
  {
   "cell_type": "markdown",
   "metadata": {},
   "source": [
    "# Proof-of-Conecpt notepad"
   ]
  },
  {
   "cell_type": "markdown",
   "metadata": {},
   "source": [
    "## fetching RSS feed by feedparser"
   ]
  },
  {
   "cell_type": "code",
   "execution_count": null,
   "metadata": {},
   "outputs": [],
   "source": [
    "import feedparser\n",
    "\n",
    "# RSS feed URL\n",
    "feed_url = \"https://news.google.com/rss?hl=ko&gl=KR&ceid=KR:ko\"\n",
    "\n",
    "# Parse the RSS feed\n",
    "feed = feedparser.parse(feed_url)\n",
    "\n",
    "# Loop through each post\n",
    "for post in feed.entries:\n",
    "    for key in post.keys():\n",
    "        print(f\"{post[key]}\\t\")\n"
   ]
  },
  {
   "cell_type": "code",
   "execution_count": 43,
   "metadata": {},
   "outputs": [],
   "source": [
    "import requests\n",
    "from bs4 import BeautifulSoup\n",
    "\n",
    "url = \"https://news.naver.com/section/template/SECTION_ARTICLE_LIST?sid=100&sid2=&cluid=&pageNo=1&date=&next=20240923150007&_=1727076317840\"\n",
    "\n",
    "# Parse the RSS feed\n",
    "response = requests.get(\n",
    "    url,\n",
    "    headers={\"User-Agent\": \"Mozilla/5.0 (Windows NT 10.0; Win64; x64) AppleWebKit/537.36 (KHTML, like Gecko) Chrome/128.0.0.0 Safari/537.36\"}\n",
    ")\n"
   ]
  },
  {
   "cell_type": "code",
   "execution_count": 38,
   "metadata": {},
   "outputs": [],
   "source": [
    "import json\n",
    "\n",
    "bs = BeautifulSoup(json.loads(response.text)[\"renderedComponent\"][\"SECTION_ARTICLE_LIST\"], 'html')\n"
   ]
  },
  {
   "cell_type": "code",
   "execution_count": 54,
   "metadata": {},
   "outputs": [
    {
     "data": {
      "text/plain": [
       "\"여야, '법왜곡죄 공방'…檢 탄핵 청문회 다음달 2일 실시\""
      ]
     },
     "execution_count": 54,
     "metadata": {},
     "output_type": "execute_result"
    }
   ],
   "source": [
    "bs.findAll(\"li\")[0].select(\"a\")[1].select(\"strong\")[0].text"
   ]
  },
  {
   "cell_type": "code",
   "execution_count": 63,
   "metadata": {},
   "outputs": [
    {
     "data": {
      "text/plain": [
       "'김근식 \"공천 오지랖 김건희, 칠불사 회동 이준석 사과 필요\" 연일 목청'"
      ]
     },
     "execution_count": 63,
     "metadata": {},
     "output_type": "execute_result"
    }
   ],
   "source": [
    "bs.findAll(\"li\")[1].select(\"strong\")[0].text"
   ]
  },
  {
   "cell_type": "code",
   "execution_count": 61,
   "metadata": {},
   "outputs": [
    {
     "data": {
      "text/plain": [
       "'金여사 공천개입설에 \"김영선 前의원 또는 명태균씨 텔레그램 문자 확인까지 사법적 재단 안돼\" 김근식 국민의힘 서울 송파병 당협위원장은 제22대 총선 기간 현역 5선이던 김영선 전 의원 공천 관련 김건희 여사가 \\'오지'"
      ]
     },
     "execution_count": 61,
     "metadata": {},
     "output_type": "execute_result"
    }
   ],
   "source": [
    "bs.findAll(\"li\")[1].select(\".sa_text_lede\")[0].text"
   ]
  },
  {
   "cell_type": "code",
   "execution_count": 74,
   "metadata": {},
   "outputs": [
    {
     "data": {
      "text/plain": [
       "'https://n.news.naver.com/mnews/article/029/0002903925'"
      ]
     },
     "execution_count": 74,
     "metadata": {},
     "output_type": "execute_result"
    }
   ],
   "source": [
    "bs.findAll(\"li\")[1].select(\"a\")[0][\"href\"]"
   ]
  },
  {
   "cell_type": "code",
   "execution_count": null,
   "metadata": {},
   "outputs": [],
   "source": [
    "i = 5\n",
    "print(\n",
    "    bs.findAll(\"li\")[i].select(\"strong\")[0].text,\n",
    "    '\\n',\n",
    "    bs.findAll(\"li\")[i].select(\".sa_text_lede\")[0].text,\n",
    "    '\\n',\n",
    "    bs.findAll(\"li\")[i].select(\"a\")[0][\"href\"]\n",
    ")"
   ]
  },
  {
   "cell_type": "code",
   "execution_count": null,
   "metadata": {},
   "outputs": [],
   "source": [
    "# 제목 추출\n",
    "title_selector = \".sa_text_title\"\n",
    "\n",
    "# 내용 추출\n",
    "lede_selector = \".sa_text_lede\"\n",
    "\n",
    "# 언론사 추출\n",
    "press_selector = \".sa_text_press\"\n",
    "\n",
    "# 게재일 추출\n",
    "date_selector = \".sa_text_datetime b\"\n",
    "\n",
    "\n",
    "bs.findAll(date_selector)"
   ]
  },
  {
   "cell_type": "markdown",
   "metadata": {},
   "source": [
    "## test LLM"
   ]
  },
  {
   "cell_type": "code",
   "execution_count": null,
   "metadata": {},
   "outputs": [],
   "source": [
    "from llama_cpp import Llama\n",
    "from transformers import AutoTokenizer\n",
    "\n",
    "model_id = 'MLP-KTLim/llama-3-Korean-Bllossom-8B-gguf-Q4_K_M'\n",
    "tokenizer = AutoTokenizer.from_pretrained(model_id)\n",
    "model = Llama(\n",
    "    model_path='/home/gpp/src/model/llama3-korean-bllossom-8b/llama-3-Korean-Bllossom-8B-Q4_K_M.gguf',\n",
    "    n_ctx=4096,\n",
    "    n_gpu_layers=-1        # Number of model layers to offload to GPU\n",
    ")\n",
    "\n",
    "# PROMPT = \\\n",
    "# '''당신은 유용한 AI 어시스턴트입니다. 사용자의 질의에 대해 친절하고 정확하게 답변해야 합니다.\n",
    "# You are a helpful AI assistant, you'll need to answer users' queries in a friendly and accurate manner.'''\n",
    "\n",
    "# instruction = '내일 개강을 맞이하는 대학생은 무엇을 해야 합니까?'\n",
    "\n",
    "# messages = [\n",
    "#     {\"role\": \"system\", \"content\": f\"{PROMPT}\"},\n",
    "#     {\"role\": \"user\", \"content\": f\"{instruction}\"}\n",
    "#     ]\n",
    "\n",
    "# prompt = tokenizer.apply_chat_template(\n",
    "#     messages, \n",
    "#     tokenize = False,\n",
    "#     add_generation_prompt=True\n",
    "# )\n",
    "\n",
    "# generation_kwargs = {\n",
    "#     \"max_tokens\":1024,\n",
    "#     \"stop\":[\"<|eot_id|>\"],\n",
    "#     \"top_p\":0.9,\n",
    "#     \"temperature\":0.6,\n",
    "#     \"echo\":True, # Echo the prompt in the output\n",
    "# }\n",
    "\n",
    "# resonse_msg = model(prompt, **generation_kwargs)\n",
    "# print(resonse_msg['choices'][0]['text'][len(prompt):])\n"
   ]
  },
  {
   "cell_type": "code",
   "execution_count": null,
   "metadata": {},
   "outputs": [],
   "source": [
    "import requests\n",
    "\n",
    "response = requests.get(\"https://feeds.feedburner.com/geeknews-feed\")\n",
    "rss_feed: str = response.content.decode()\n",
    "\n",
    "print(\"RSS feed fetched successfully.\")\n",
    "\n",
    "rss_feed"
   ]
  }
 ],
 "metadata": {
  "kernelspec": {
   "display_name": "dog9",
   "language": "python",
   "name": "python3"
  },
  "language_info": {
   "codemirror_mode": {
    "name": "ipython",
    "version": 3
   },
   "file_extension": ".py",
   "mimetype": "text/x-python",
   "name": "python",
   "nbconvert_exporter": "python",
   "pygments_lexer": "ipython3",
   "version": "3.11.6"
  }
 },
 "nbformat": 4,
 "nbformat_minor": 2
}
